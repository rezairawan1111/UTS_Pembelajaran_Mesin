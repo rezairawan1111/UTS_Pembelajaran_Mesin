{
 "cells": [
  {
   "cell_type": "code",
   "execution_count": 2,
   "id": "772b87ba",
   "metadata": {},
   "outputs": [],
   "source": [
    "import pandas as pd\n",
    "import numpy as np\n",
    "import seaborn as sns\n",
    "%matplotlib inline\n",
    "import matplotlib.pyplot as plt\n",
    "import math"
   ]
  },
  {
   "cell_type": "markdown",
   "id": "687b3368",
   "metadata": {},
   "source": [
    "- import \n",
    "Berguna untuk mengambil library yang tersedia pada Jupyter\n",
    "- pandas\n",
    "Library ini berguna dalam manipulasi data, menulis & membaca data,analisis, membuang data yang terdapat pada dataset, serta menampilkan data dalam bentuk gambar/grafik\n",
    "- seaborn\n",
    "Seaborn berfungsi untuk menampilkan visualisasi data, dalam kasus ini saya menggunakan seaborn dalam menampilkan data asli maupun data prediksi\n",
    "- %matplotlib inline\n",
    "- import matplotlib.pyplot as plt\n",
    "Berfungsi untuk memaksukan data yang sudah dibuat ke pada library pandas, serta bisa untuk membuat interface yang interaktif\n",
    "- math\n",
    "Berguna agar kita bisa melakukan perhitungan pada Data, contohnya pada In [17]"
   ]
  },
  {
   "cell_type": "code",
   "execution_count": 3,
   "id": "e284e14f",
   "metadata": {},
   "outputs": [
    {
     "data": {
      "text/html": [
       "<div>\n",
       "<style scoped>\n",
       "    .dataframe tbody tr th:only-of-type {\n",
       "        vertical-align: middle;\n",
       "    }\n",
       "\n",
       "    .dataframe tbody tr th {\n",
       "        vertical-align: top;\n",
       "    }\n",
       "\n",
       "    .dataframe thead th {\n",
       "        text-align: right;\n",
       "    }\n",
       "</style>\n",
       "<table border=\"1\" class=\"dataframe\">\n",
       "  <thead>\n",
       "    <tr style=\"text-align: right;\">\n",
       "      <th></th>\n",
       "      <th>Production (X)</th>\n",
       "      <th>Harvest Area (Y)</th>\n",
       "    </tr>\n",
       "  </thead>\n",
       "  <tbody>\n",
       "    <tr>\n",
       "      <th>0</th>\n",
       "      <td>1329536.00</td>\n",
       "      <td>323589.00</td>\n",
       "    </tr>\n",
       "    <tr>\n",
       "      <th>1</th>\n",
       "      <td>1299699.00</td>\n",
       "      <td>329041.00</td>\n",
       "    </tr>\n",
       "    <tr>\n",
       "      <th>2</th>\n",
       "      <td>1382905.00</td>\n",
       "      <td>339253.00</td>\n",
       "    </tr>\n",
       "    <tr>\n",
       "      <th>3</th>\n",
       "      <td>1419128.00</td>\n",
       "      <td>348223.00</td>\n",
       "    </tr>\n",
       "    <tr>\n",
       "      <th>4</th>\n",
       "      <td>1368074.00</td>\n",
       "      <td>337561.00</td>\n",
       "    </tr>\n",
       "    <tr>\n",
       "      <th>...</th>\n",
       "      <td>...</td>\n",
       "      <td>...</td>\n",
       "    </tr>\n",
       "    <tr>\n",
       "      <th>219</th>\n",
       "      <td>3831923.00</td>\n",
       "      <td>390799.00</td>\n",
       "    </tr>\n",
       "    <tr>\n",
       "      <th>220</th>\n",
       "      <td>4090654.00</td>\n",
       "      <td>396559.00</td>\n",
       "    </tr>\n",
       "    <tr>\n",
       "      <th>221</th>\n",
       "      <td>2488641.91</td>\n",
       "      <td>511940.93</td>\n",
       "    </tr>\n",
       "    <tr>\n",
       "      <th>222</th>\n",
       "      <td>2164089.33</td>\n",
       "      <td>464103.42</td>\n",
       "    </tr>\n",
       "    <tr>\n",
       "      <th>223</th>\n",
       "      <td>2604913.29</td>\n",
       "      <td>545149.05</td>\n",
       "    </tr>\n",
       "  </tbody>\n",
       "</table>\n",
       "<p>224 rows × 2 columns</p>\n",
       "</div>"
      ],
      "text/plain": [
       "     Production (X)  Harvest Area (Y)\n",
       "0        1329536.00         323589.00\n",
       "1        1299699.00         329041.00\n",
       "2        1382905.00         339253.00\n",
       "3        1419128.00         348223.00\n",
       "4        1368074.00         337561.00\n",
       "..              ...               ...\n",
       "219      3831923.00         390799.00\n",
       "220      4090654.00         396559.00\n",
       "221      2488641.91         511940.93\n",
       "222      2164089.33         464103.42\n",
       "223      2604913.29         545149.05\n",
       "\n",
       "[224 rows x 2 columns]"
      ]
     },
     "execution_count": 3,
     "metadata": {},
     "output_type": "execute_result"
    }
   ],
   "source": [
    "data = pd.read_csv('R02_rice_field.csv')\n",
    "data"
   ]
  },
  {
   "cell_type": "markdown",
   "id": "5a96e2ad",
   "metadata": {},
   "source": [
    "Command ini, berguna untuk mengambil file \"R02_rice_field.csv\" yang sudah ditaruh dalam 1 folder dengan file jupyter yang sedang digunakan sekaran. Dan juga command \"data\" berguna untuk menampilkan data yang sudah kita ambil tersebut"
   ]
  },
  {
   "cell_type": "code",
   "execution_count": 4,
   "id": "cdb3172d",
   "metadata": {},
   "outputs": [
    {
     "data": {
      "text/html": [
       "<div>\n",
       "<style scoped>\n",
       "    .dataframe tbody tr th:only-of-type {\n",
       "        vertical-align: middle;\n",
       "    }\n",
       "\n",
       "    .dataframe tbody tr th {\n",
       "        vertical-align: top;\n",
       "    }\n",
       "\n",
       "    .dataframe thead th {\n",
       "        text-align: right;\n",
       "    }\n",
       "</style>\n",
       "<table border=\"1\" class=\"dataframe\">\n",
       "  <thead>\n",
       "    <tr style=\"text-align: right;\">\n",
       "      <th></th>\n",
       "      <th>Production (X)</th>\n",
       "      <th>Harvest Area (Y)</th>\n",
       "    </tr>\n",
       "  </thead>\n",
       "  <tbody>\n",
       "    <tr>\n",
       "      <th>0</th>\n",
       "      <td>1329536.0</td>\n",
       "      <td>323589.0</td>\n",
       "    </tr>\n",
       "    <tr>\n",
       "      <th>1</th>\n",
       "      <td>1299699.0</td>\n",
       "      <td>329041.0</td>\n",
       "    </tr>\n",
       "    <tr>\n",
       "      <th>2</th>\n",
       "      <td>1382905.0</td>\n",
       "      <td>339253.0</td>\n",
       "    </tr>\n",
       "    <tr>\n",
       "      <th>3</th>\n",
       "      <td>1419128.0</td>\n",
       "      <td>348223.0</td>\n",
       "    </tr>\n",
       "    <tr>\n",
       "      <th>4</th>\n",
       "      <td>1368074.0</td>\n",
       "      <td>337561.0</td>\n",
       "    </tr>\n",
       "  </tbody>\n",
       "</table>\n",
       "</div>"
      ],
      "text/plain": [
       "   Production (X)  Harvest Area (Y)\n",
       "0       1329536.0          323589.0\n",
       "1       1299699.0          329041.0\n",
       "2       1382905.0          339253.0\n",
       "3       1419128.0          348223.0\n",
       "4       1368074.0          337561.0"
      ]
     },
     "execution_count": 4,
     "metadata": {},
     "output_type": "execute_result"
    }
   ],
   "source": [
    "data.head()"
   ]
  },
  {
   "cell_type": "markdown",
   "id": "51f134c1",
   "metadata": {},
   "source": [
    "Berguna untuk menampilkan 5 data teratas dalam dataset, pada () bisa kita tambahkan angka tergantung seberapa banyak data yang ingin ditampilkan"
   ]
  },
  {
   "cell_type": "code",
   "execution_count": 5,
   "id": "67fa6e78",
   "metadata": {},
   "outputs": [
    {
     "data": {
      "text/html": [
       "<div>\n",
       "<style scoped>\n",
       "    .dataframe tbody tr th:only-of-type {\n",
       "        vertical-align: middle;\n",
       "    }\n",
       "\n",
       "    .dataframe tbody tr th {\n",
       "        vertical-align: top;\n",
       "    }\n",
       "\n",
       "    .dataframe thead th {\n",
       "        text-align: right;\n",
       "    }\n",
       "</style>\n",
       "<table border=\"1\" class=\"dataframe\">\n",
       "  <thead>\n",
       "    <tr style=\"text-align: right;\">\n",
       "      <th></th>\n",
       "      <th>Production (X)</th>\n",
       "      <th>Harvest Area (Y)</th>\n",
       "    </tr>\n",
       "  </thead>\n",
       "  <tbody>\n",
       "    <tr>\n",
       "      <th>219</th>\n",
       "      <td>3831923.00</td>\n",
       "      <td>390799.00</td>\n",
       "    </tr>\n",
       "    <tr>\n",
       "      <th>220</th>\n",
       "      <td>4090654.00</td>\n",
       "      <td>396559.00</td>\n",
       "    </tr>\n",
       "    <tr>\n",
       "      <th>221</th>\n",
       "      <td>2488641.91</td>\n",
       "      <td>511940.93</td>\n",
       "    </tr>\n",
       "    <tr>\n",
       "      <th>222</th>\n",
       "      <td>2164089.33</td>\n",
       "      <td>464103.42</td>\n",
       "    </tr>\n",
       "    <tr>\n",
       "      <th>223</th>\n",
       "      <td>2604913.29</td>\n",
       "      <td>545149.05</td>\n",
       "    </tr>\n",
       "  </tbody>\n",
       "</table>\n",
       "</div>"
      ],
      "text/plain": [
       "     Production (X)  Harvest Area (Y)\n",
       "219      3831923.00         390799.00\n",
       "220      4090654.00         396559.00\n",
       "221      2488641.91         511940.93\n",
       "222      2164089.33         464103.42\n",
       "223      2604913.29         545149.05"
      ]
     },
     "execution_count": 5,
     "metadata": {},
     "output_type": "execute_result"
    }
   ],
   "source": [
    "data.tail()"
   ]
  },
  {
   "cell_type": "markdown",
   "id": "12e23299",
   "metadata": {},
   "source": [
    "Berguna untuk menampilkan 5 data terbawah dalam dataset, pada () bisa kita tambahkan angka tergantung seberapa banyak data yang ingin ditampilkan"
   ]
  },
  {
   "cell_type": "code",
   "execution_count": 6,
   "id": "ae407f67",
   "metadata": {},
   "outputs": [
    {
     "name": "stdout",
     "output_type": "stream",
     "text": [
      "Jumlah dataset yang dimiliki : 224\n"
     ]
    }
   ],
   "source": [
    "print(\"Jumlah dataset yang dimiliki : \"+str(len(data.index)))"
   ]
  },
  {
   "cell_type": "markdown",
   "id": "d9d51eba",
   "metadata": {},
   "source": [
    "Command ini berguna untuk menghitung jumlah data yang terdapat pada dataset yang kita panggil sebelumnya"
   ]
  },
  {
   "cell_type": "code",
   "execution_count": 7,
   "id": "39db7079",
   "metadata": {},
   "outputs": [
    {
     "data": {
      "text/html": [
       "<div>\n",
       "<style scoped>\n",
       "    .dataframe tbody tr th:only-of-type {\n",
       "        vertical-align: middle;\n",
       "    }\n",
       "\n",
       "    .dataframe tbody tr th {\n",
       "        vertical-align: top;\n",
       "    }\n",
       "\n",
       "    .dataframe thead th {\n",
       "        text-align: right;\n",
       "    }\n",
       "</style>\n",
       "<table border=\"1\" class=\"dataframe\">\n",
       "  <thead>\n",
       "    <tr style=\"text-align: right;\">\n",
       "      <th></th>\n",
       "      <th>Production (X)</th>\n",
       "      <th>Harvest Area (Y)</th>\n",
       "    </tr>\n",
       "  </thead>\n",
       "  <tbody>\n",
       "    <tr>\n",
       "      <th>count</th>\n",
       "      <td>2.240000e+02</td>\n",
       "      <td>224.000000</td>\n",
       "    </tr>\n",
       "    <tr>\n",
       "      <th>mean</th>\n",
       "      <td>1.679701e+06</td>\n",
       "      <td>374349.966920</td>\n",
       "    </tr>\n",
       "    <tr>\n",
       "      <th>std</th>\n",
       "      <td>1.161387e+06</td>\n",
       "      <td>232751.161987</td>\n",
       "    </tr>\n",
       "    <tr>\n",
       "      <th>min</th>\n",
       "      <td>4.293800e+04</td>\n",
       "      <td>63142.040000</td>\n",
       "    </tr>\n",
       "    <tr>\n",
       "      <th>25%</th>\n",
       "      <td>5.488570e+05</td>\n",
       "      <td>146919.500000</td>\n",
       "    </tr>\n",
       "    <tr>\n",
       "      <th>50%</th>\n",
       "      <td>1.667773e+06</td>\n",
       "      <td>373551.500000</td>\n",
       "    </tr>\n",
       "    <tr>\n",
       "      <th>75%</th>\n",
       "      <td>2.436851e+06</td>\n",
       "      <td>514570.250000</td>\n",
       "    </tr>\n",
       "    <tr>\n",
       "      <th>max</th>\n",
       "      <td>4.881089e+06</td>\n",
       "      <td>872737.000000</td>\n",
       "    </tr>\n",
       "  </tbody>\n",
       "</table>\n",
       "</div>"
      ],
      "text/plain": [
       "       Production (X)  Harvest Area (Y)\n",
       "count    2.240000e+02        224.000000\n",
       "mean     1.679701e+06     374349.966920\n",
       "std      1.161387e+06     232751.161987\n",
       "min      4.293800e+04      63142.040000\n",
       "25%      5.488570e+05     146919.500000\n",
       "50%      1.667773e+06     373551.500000\n",
       "75%      2.436851e+06     514570.250000\n",
       "max      4.881089e+06     872737.000000"
      ]
     },
     "execution_count": 7,
     "metadata": {},
     "output_type": "execute_result"
    }
   ],
   "source": [
    "data.describe()"
   ]
  },
  {
   "cell_type": "markdown",
   "id": "268d554b",
   "metadata": {},
   "source": [
    "Describe berfungsi untuk untuk mencari jumlah data,  nilai rata rata, standar deviasi, nilai minimum, nilai kuartil 25% - 75%, dan juga niai maximal dari dataset yang kita panggil"
   ]
  },
  {
   "cell_type": "code",
   "execution_count": 8,
   "id": "52c3f565",
   "metadata": {},
   "outputs": [
    {
     "name": "stdout",
     "output_type": "stream",
     "text": [
      "<class 'pandas.core.frame.DataFrame'>\n",
      "RangeIndex: 224 entries, 0 to 223\n",
      "Data columns (total 2 columns):\n",
      " #   Column            Non-Null Count  Dtype  \n",
      "---  ------            --------------  -----  \n",
      " 0   Production (X)    224 non-null    float64\n",
      " 1   Harvest Area (Y)  224 non-null    float64\n",
      "dtypes: float64(2)\n",
      "memory usage: 3.6 KB\n"
     ]
    }
   ],
   "source": [
    "data.info()"
   ]
  },
  {
   "cell_type": "markdown",
   "id": "31679991",
   "metadata": {},
   "source": [
    "Info berguna untuk memberikan informasi dari data yang kita akan gunakan, seperti berapa kolom dan apa saja yang ada dalam kolom tersebut dan juga tipe dari data tersebut serta memori yang digunakan"
   ]
  },
  {
   "cell_type": "code",
   "execution_count": 9,
   "id": "48e6162c",
   "metadata": {},
   "outputs": [
    {
     "name": "stdout",
     "output_type": "stream",
     "text": [
      "0       87\n",
      "1       85\n",
      "2       91\n",
      "3       96\n",
      "4       90\n",
      "      ... \n",
      "219    216\n",
      "220    218\n",
      "221    171\n",
      "222    157\n",
      "223    175\n",
      "Name: Production (X), Length: 224, dtype: int64 0      323589.00\n",
      "1      329041.00\n",
      "2      339253.00\n",
      "3      348223.00\n",
      "4      337561.00\n",
      "         ...    \n",
      "219    390799.00\n",
      "220    396559.00\n",
      "221    511940.93\n",
      "222    464103.42\n",
      "223    545149.05\n",
      "Name: Harvest Area (Y), Length: 224, dtype: float64\n",
      "0       87\n",
      "1       85\n",
      "2       91\n",
      "3       96\n",
      "4       90\n",
      "      ... \n",
      "219    216\n",
      "220    218\n",
      "221    171\n",
      "222    157\n",
      "223    175\n",
      "Name: Production (X), Length: 224, dtype: int64 0       96\n",
      "1       97\n",
      "2      103\n",
      "3      104\n",
      "4      101\n",
      "      ... \n",
      "219    118\n",
      "220    121\n",
      "221    166\n",
      "222    148\n",
      "223    173\n",
      "Name: Harvest Area (Y), Length: 224, dtype: int64\n"
     ]
    }
   ],
   "source": [
    "from sklearn.preprocessing import LabelEncoder\n",
    "for col in ['Production (X)', 'Harvest Area (Y)']:\n",
    "    le = LabelEncoder()\n",
    "    data[col] = le.fit_transform(data[col])\n",
    "    data\n",
    "    print (data['Production (X)'], data['Harvest Area (Y)'])"
   ]
  },
  {
   "cell_type": "code",
   "execution_count": 10,
   "id": "0180ced8",
   "metadata": {},
   "outputs": [],
   "source": [
    "x = data.drop('Production (X)', axis = 1)\n",
    "y = data['Harvest Area (Y)']"
   ]
  },
  {
   "cell_type": "markdown",
   "id": "862d6d6e",
   "metadata": {},
   "source": [
    "x = data.drop('Production (X)', axis = 1)\n",
    "berfungsi menentukan nilai X yaitu Production dan menghilangkan kolomnya sebanyak 1\n",
    "\n",
    "y = data['Harvest Area (Y)']\n",
    "Berfungsi untuk menentukan nilai Y"
   ]
  },
  {
   "cell_type": "code",
   "execution_count": 11,
   "id": "37bae3f5",
   "metadata": {},
   "outputs": [
    {
     "data": {
      "image/png": "[encoded data removed]",
      "text/plain": [
       "<Figure size 640x480 with 1 Axes>"
      ]
     },
     "metadata": {},
     "output_type": "display_data"
    }
   ],
   "source": [
    "data.plot(x = 'Production (X)', y = 'Harvest Area (Y)', style = 'o')\n",
    "plt.title('Data Berdasarkan dari Jam production dan harvest area')\n",
    "plt.xlabel('Production')\n",
    "plt.ylabel('Harvest Area')\n",
    "plt.show()"
   ]
  },
  {
   "cell_type": "markdown",
   "id": "f9c83ce9",
   "metadata": {},
   "source": [
    "- data.plot\n",
    "Berguna untuk menentukan titik x dan titik y yang nantinya akan kita tampilkan pada grafik serta memberikan desain pada grafik tersebut\n",
    "- plt.title\n",
    "Berguna untuk memberikan judul dari grafik yang kita buat\n",
    "- plt.xlabel\n",
    "Berguna untuk memberikan data yang akan kita isi pada tiktik x\n",
    "- plt.ylabel\n",
    "Berguna untuk memberikan data yang akan kita isi pada tiktik y\n",
    "- plt.show()\n",
    "Berfungsi untuk menampilkan grafik yang sudah kita setting sebelumnnya"
   ]
  },
  {
   "cell_type": "code",
   "execution_count": 12,
   "id": "e4969b76",
   "metadata": {},
   "outputs": [],
   "source": [
    "x = data.iloc[:, :-1].values\n",
    "y = data.iloc[:, 1].values"
   ]
  },
  {
   "cell_type": "markdown",
   "id": "deca37b2",
   "metadata": {},
   "source": [
    "Command ini berfungsi untuk menentukan variabel yang terdapat pada sumbu x dan y"
   ]
  },
  {
   "cell_type": "code",
   "execution_count": 13,
   "id": "4986b7e4",
   "metadata": {},
   "outputs": [],
   "source": [
    "from sklearn.model_selection import train_test_split\n",
    "x_train, x_test, y_train, y_test = train_test_split(x, y, test_size=0.3, random_state=0)"
   ]
  },
  {
   "cell_type": "markdown",
   "id": "c5f4d60d",
   "metadata": {},
   "source": [
    "Command ini, kita membagi data tersebut menjadi 2 (data untuk testing dan data untuk dilatih)\n",
    "pada command ini juga kita mengatur ukuran data yang dipakai untuk testing."
   ]
  },
  {
   "cell_type": "code",
   "execution_count": 14,
   "id": "b5131dc2",
   "metadata": {},
   "outputs": [],
   "source": [
    "from sklearn.naive_bayes import GaussianNB\n",
    "model_Nb = GaussianNB()\n",
    "model_Nb = model_Nb.fit(x_train, y_train)"
   ]
  },
  {
   "cell_type": "markdown",
   "id": "7632f786",
   "metadata": {},
   "source": [
    "Command ini berfungsi untuk mengimport library GaussianNB dan menamai library tersebut menjadi model_Nb\n",
    "model_Nb ini akan mengambil nilai pada x_train dan y_train"
   ]
  },
  {
   "cell_type": "code",
   "execution_count": 15,
   "id": "c0aadd97",
   "metadata": {},
   "outputs": [],
   "source": [
    "predict = model_Nb.predict(x_test)"
   ]
  },
  {
   "cell_type": "markdown",
   "id": "f4305d22",
   "metadata": {},
   "source": [
    "Command ini berfungsi untuk memprediksi nilai pada data x_test"
   ]
  },
  {
   "cell_type": "code",
   "execution_count": 16,
   "id": "303eda85",
   "metadata": {},
   "outputs": [
    {
     "name": "stdout",
     "output_type": "stream",
     "text": [
      "Akurasi scorenya sebesar :  0.0\n"
     ]
    }
   ],
   "source": [
    "from sklearn.metrics import accuracy_score\n",
    "print (\"Akurasi scorenya sebesar : \", accuracy_score(y_test, predict)*100)"
   ]
  },
  {
   "cell_type": "markdown",
   "id": "e326f712",
   "metadata": {},
   "source": [
    "Berfungsi untuk mengimport library accuracy_score pada skcith learn dan menampilkan total akurasi berdasarkan data y_test dan predict pada x_test lalu di x 100 karena kalau tidak akan menjadi desimal"
   ]
  },
  {
   "cell_type": "code",
   "execution_count": 17,
   "id": "b76e3cca",
   "metadata": {},
   "outputs": [
    {
     "data": {
      "text/html": [
       "<style>#sk-container-id-1 {color: black;}#sk-container-id-1 pre{padding: 0;}#sk-container-id-1 div.sk-toggleable {background-color: white;}#sk-container-id-1 label.sk-toggleable__label {cursor: pointer;display: block;width: 100%;margin-bottom: 0;padding: 0.3em;box-sizing: border-box;text-align: center;}#sk-container-id-1 label.sk-toggleable__label-arrow:before {content: \"▸\";float: left;margin-right: 0.25em;color: #696969;}#sk-container-id-1 label.sk-toggleable__label-arrow:hover:before {color: black;}#sk-container-id-1 div.sk-estimator:hover label.sk-toggleable__label-arrow:before {color: black;}#sk-container-id-1 div.sk-toggleable__content {max-height: 0;max-width: 0;overflow: hidden;text-align: left;background-color: #f0f8ff;}#sk-container-id-1 div.sk-toggleable__content pre {margin: 0.2em;color: black;border-radius: 0.25em;background-color: #f0f8ff;}#sk-container-id-1 input.sk-toggleable__control:checked~div.sk-toggleable__content {max-height: 200px;max-width: 100%;overflow: auto;}#sk-container-id-1 input.sk-toggleable__control:checked~label.sk-toggleable__label-arrow:before {content: \"▾\";}#sk-container-id-1 div.sk-estimator input.sk-toggleable__control:checked~label.sk-toggleable__label {background-color: #d4ebff;}#sk-container-id-1 div.sk-label input.sk-toggleable__control:checked~label.sk-toggleable__label {background-color: #d4ebff;}#sk-container-id-1 input.sk-hidden--visually {border: 0;clip: rect(1px 1px 1px 1px);clip: rect(1px, 1px, 1px, 1px);height: 1px;margin: -1px;overflow: hidden;padding: 0;position: absolute;width: 1px;}#sk-container-id-1 div.sk-estimator {font-family: monospace;background-color: #f0f8ff;border: 1px dotted black;border-radius: 0.25em;box-sizing: border-box;margin-bottom: 0.5em;}#sk-container-id-1 div.sk-estimator:hover {background-color: #d4ebff;}#sk-container-id-1 div.sk-parallel-item::after {content: \"\";width: 100%;border-bottom: 1px solid gray;flex-grow: 1;}#sk-container-id-1 div.sk-label:hover label.sk-toggleable__label {background-color: #d4ebff;}#sk-container-id-1 div.sk-serial::before {content: \"\";position: absolute;border-left: 1px solid gray;box-sizing: border-box;top: 0;bottom: 0;left: 50%;z-index: 0;}#sk-container-id-1 div.sk-serial {display: flex;flex-direction: column;align-items: center;background-color: white;padding-right: 0.2em;padding-left: 0.2em;position: relative;}#sk-container-id-1 div.sk-item {position: relative;z-index: 1;}#sk-container-id-1 div.sk-parallel {display: flex;align-items: stretch;justify-content: center;background-color: white;position: relative;}#sk-container-id-1 div.sk-item::before, #sk-container-id-1 div.sk-parallel-item::before {content: \"\";position: absolute;border-left: 1px solid gray;box-sizing: border-box;top: 0;bottom: 0;left: 50%;z-index: -1;}#sk-container-id-1 div.sk-parallel-item {display: flex;flex-direction: column;z-index: 1;position: relative;background-color: white;}#sk-container-id-1 div.sk-parallel-item:first-child::after {align-self: flex-end;width: 50%;}#sk-container-id-1 div.sk-parallel-item:last-child::after {align-self: flex-start;width: 50%;}#sk-container-id-1 div.sk-parallel-item:only-child::after {width: 0;}#sk-container-id-1 div.sk-dashed-wrapped {border: 1px dashed gray;margin: 0 0.4em 0.5em 0.4em;box-sizing: border-box;padding-bottom: 0.4em;background-color: white;}#sk-container-id-1 div.sk-label label {font-family: monospace;font-weight: bold;display: inline-block;line-height: 1.2em;}#sk-container-id-1 div.sk-label-container {text-align: center;}#sk-container-id-1 div.sk-container {/* jupyter's `normalize.less` sets `[hidden] { display: none; }` but bootstrap.min.css set `[hidden] { display: none !important; }` so we also need the `!important` here to be able to override the default hidden behavior on the sphinx rendered scikit-learn.org. See: https://github.com/scikit-learn/scikit-learn/issues/21755 */display: inline-block !important;position: relative;}#sk-container-id-1 div.sk-text-repr-fallback {display: none;}</style><div id=\"sk-container-id-1\" class=\"sk-top-container\"><div class=\"sk-text-repr-fallback\"><pre>LinearRegression()</pre><b>In a Jupyter environment, please rerun this cell to show the HTML representation or trust the notebook. <br />On GitHub, the HTML representation is unable to render, please try loading this page with nbviewer.org.</b></div><div class=\"sk-container\" hidden><div class=\"sk-item\"><div class=\"sk-estimator sk-toggleable\"><input class=\"sk-toggleable__control sk-hidden--visually\" id=\"sk-estimator-id-1\" type=\"checkbox\" checked><label for=\"sk-estimator-id-1\" class=\"sk-toggleable__label sk-toggleable__label-arrow\">LinearRegression</label><div class=\"sk-toggleable__content\"><pre>LinearRegression()</pre></div></div></div></div></div>"
      ],
      "text/plain": [
       "LinearRegression()"
      ]
     },
     "execution_count": 17,
     "metadata": {},
     "output_type": "execute_result"
    }
   ],
   "source": [
    "from sklearn.linear_model import LinearRegression \n",
    "regressor = LinearRegression()\n",
    "regressor.fit(x_train, y_train)"
   ]
  },
  {
   "cell_type": "markdown",
   "id": "a4305d4d",
   "metadata": {},
   "source": [
    "Command diatas berfungsi untuk mengimport library LinearRegression dari sklear (bisa dilakukan pada in[1]) nantinya LinearRegression kita gunakan untuk menggunakan objek regressor dan kita buat model regresi untuk melatih x_train dan y_train"
   ]
  },
  {
   "cell_type": "code",
   "execution_count": 18,
   "id": "e2dd605b",
   "metadata": {},
   "outputs": [
    {
     "name": "stdout",
     "output_type": "stream",
     "text": [
      "10.506669551762386\n"
     ]
    }
   ],
   "source": [
    "print(regressor.intercept_)"
   ]
  },
  {
   "cell_type": "markdown",
   "id": "f9e33424",
   "metadata": {},
   "source": [
    "Berguna untuk mencari nilai perpotongan(garis) pada regresi"
   ]
  },
  {
   "cell_type": "code",
   "execution_count": 19,
   "id": "54de3045",
   "metadata": {},
   "outputs": [
    {
     "name": "stdout",
     "output_type": "stream",
     "text": [
      "[0.89933574]\n"
     ]
    }
   ],
   "source": [
    "print(regressor.coef_)"
   ]
  },
  {
   "cell_type": "raw",
   "id": "4fc57612",
   "metadata": {},
   "source": [
    "Digunakan untuk mencari koefisien pada variabel X pada garis regresi"
   ]
  },
  {
   "cell_type": "code",
   "execution_count": 20,
   "id": "2f45b417",
   "metadata": {},
   "outputs": [
    {
     "data": {
      "text/plain": [
       "3.7503760053475927"
      ]
     },
     "execution_count": 20,
     "metadata": {},
     "output_type": "execute_result"
    }
   ],
   "source": [
    "#Intercept + coef * 3.3\n",
    "1.157002005347593 + 1.0373496 * 2.5"
   ]
  },
  {
   "cell_type": "markdown",
   "id": "404b02c2",
   "metadata": {},
   "source": [
    "Perhitungan diatas berguna untuk mencari prediksi seberapa ke-efektifan pembelajaran yang dilakukan berdasarkan 5 data teratas secara manual"
   ]
  },
  {
   "cell_type": "code",
   "execution_count": 21,
   "id": "ad4f2407",
   "metadata": {},
   "outputs": [],
   "source": [
    "y_pred = regressor.predict(x_test)"
   ]
  },
  {
   "cell_type": "markdown",
   "id": "7c466eab",
   "metadata": {},
   "source": [
    "Command ini berguna untuk mencari prediksi ke-efektifan pembelajaran secara otomatis"
   ]
  },
  {
   "cell_type": "code",
   "execution_count": 22,
   "id": "46a9e8be",
   "metadata": {},
   "outputs": [
    {
     "data": {
      "text/html": [
       "<div>\n",
       "<style scoped>\n",
       "    .dataframe tbody tr th:only-of-type {\n",
       "        vertical-align: middle;\n",
       "    }\n",
       "\n",
       "    .dataframe tbody tr th {\n",
       "        vertical-align: top;\n",
       "    }\n",
       "\n",
       "    .dataframe thead th {\n",
       "        text-align: right;\n",
       "    }\n",
       "</style>\n",
       "<table border=\"1\" class=\"dataframe\">\n",
       "  <thead>\n",
       "    <tr style=\"text-align: right;\">\n",
       "      <th></th>\n",
       "      <th>Data Asli</th>\n",
       "      <th>Prediksi</th>\n",
       "    </tr>\n",
       "  </thead>\n",
       "  <tbody>\n",
       "    <tr>\n",
       "      <th>0</th>\n",
       "      <td>43</td>\n",
       "      <td>40.184749</td>\n",
       "    </tr>\n",
       "    <tr>\n",
       "      <th>1</th>\n",
       "      <td>160</td>\n",
       "      <td>136.413673</td>\n",
       "    </tr>\n",
       "    <tr>\n",
       "      <th>2</th>\n",
       "      <td>16</td>\n",
       "      <td>19.500027</td>\n",
       "    </tr>\n",
       "    <tr>\n",
       "      <th>3</th>\n",
       "      <td>14</td>\n",
       "      <td>84.252200</td>\n",
       "    </tr>\n",
       "    <tr>\n",
       "      <th>4</th>\n",
       "      <td>33</td>\n",
       "      <td>49.178106</td>\n",
       "    </tr>\n",
       "    <tr>\n",
       "      <th>...</th>\n",
       "      <td>...</td>\n",
       "      <td>...</td>\n",
       "    </tr>\n",
       "    <tr>\n",
       "      <th>63</th>\n",
       "      <td>36</td>\n",
       "      <td>52.775449</td>\n",
       "    </tr>\n",
       "    <tr>\n",
       "      <th>64</th>\n",
       "      <td>126</td>\n",
       "      <td>122.923637</td>\n",
       "    </tr>\n",
       "    <tr>\n",
       "      <th>65</th>\n",
       "      <td>128</td>\n",
       "      <td>209.259869</td>\n",
       "    </tr>\n",
       "    <tr>\n",
       "      <th>66</th>\n",
       "      <td>125</td>\n",
       "      <td>124.722309</td>\n",
       "    </tr>\n",
       "    <tr>\n",
       "      <th>67</th>\n",
       "      <td>90</td>\n",
       "      <td>112.131608</td>\n",
       "    </tr>\n",
       "  </tbody>\n",
       "</table>\n",
       "<p>68 rows × 2 columns</p>\n",
       "</div>"
      ],
      "text/plain": [
       "    Data Asli    Prediksi\n",
       "0          43   40.184749\n",
       "1         160  136.413673\n",
       "2          16   19.500027\n",
       "3          14   84.252200\n",
       "4          33   49.178106\n",
       "..        ...         ...\n",
       "63         36   52.775449\n",
       "64        126  122.923637\n",
       "65        128  209.259869\n",
       "66        125  124.722309\n",
       "67         90  112.131608\n",
       "\n",
       "[68 rows x 2 columns]"
      ]
     },
     "execution_count": 22,
     "metadata": {},
     "output_type": "execute_result"
    }
   ],
   "source": [
    "data = pd.DataFrame({'Data Asli' : y_test, 'Prediksi' : y_pred})\n",
    "data"
   ]
  },
  {
   "cell_type": "markdown",
   "id": "5915c669",
   "metadata": {},
   "source": [
    "Berguna untuk menampilkan dataframe prediksi berdasarkan data asli yang kita panggil tadi"
   ]
  },
  {
   "cell_type": "code",
   "execution_count": 23,
   "id": "8cb41e96",
   "metadata": {},
   "outputs": [
    {
     "data": {
      "text/plain": [
       "<seaborn.axisgrid.PairGrid at 0x2137fa31100>"
      ]
     },
     "execution_count": 23,
     "metadata": {},
     "output_type": "execute_result"
    },
    {
     "data": {
      "image/png": "[encoded data removed]",
      "text/plain": [
       "<Figure size 500x500 with 6 Axes>"
      ]
     },
     "metadata": {},
     "output_type": "display_data"
    }
   ],
   "source": [
    "sns.pairplot(data)"
   ]
  },
  {
   "cell_type": "markdown",
   "id": "c76d3517",
   "metadata": {},
   "source": [
    "Disini merupakan fungsi dari seaborn, yaitu untuk membuat grafik berdasarkan data Student Performance"
   ]
  },
  {
   "cell_type": "code",
   "execution_count": 24,
   "id": "97cdf5ec",
   "metadata": {},
   "outputs": [
    {
     "data": {
      "image/png": "[encoded data removed]",
      "text/plain": [
       "<Figure size 640x480 with 1 Axes>"
      ]
     },
     "metadata": {},
     "output_type": "display_data"
    }
   ],
   "source": [
    "#Grafik berdasarkan dari hasil testing data\n",
    "plt.scatter(x_test, y_test, color = 'orange')\n",
    "plt.plot(x_train, regressor.predict(x_train), color = 'green')\n",
    "plt.title('Perbandingan production dengan harvest area (testing data)')\n",
    "plt.xlabel('production')\n",
    "plt.ylabel('harvest area')\n",
    "plt.show()"
   ]
  },
  {
   "cell_type": "markdown",
   "id": "a4bf0076",
   "metadata": {},
   "source": [
    "- plt.Scatter\n",
    "merupakan command untuk memanggil desain scatter pada library matplotlib.pyplot serta memasukan data testing dari titik x & y dan pada saat grafiknya dimunculkan akan berwarna oranye\n",
    "- plt.plot\n",
    "berfungsi untuk mengambil data dari prediksi pada x_train, dan nantinya akan berwarna  hijau pada grafik yang kita tampilkan\n",
    "- plt.title\n",
    "memberikan judul pada grafik yang dibuat\n",
    "- plt.xlabel \n",
    "menentukan data x label pada grafik, yaitu \"Study Hours\"\n",
    "- plt.ylabel\n",
    "menentukan data y label pada grafik, yaitu \"Exam Scores\"\n",
    "- plt.show()\n",
    "berguna untuk menampilkan scatter yang sudah kita setting"
   ]
  },
  {
   "cell_type": "code",
   "execution_count": 25,
   "id": "a8212d13",
   "metadata": {},
   "outputs": [
    {
     "data": {
      "image/png": "[encoded data removed]",
      "text/plain": [
       "<Figure size 640x480 with 1 Axes>"
      ]
     },
     "metadata": {},
     "output_type": "display_data"
    }
   ],
   "source": [
    "#Gambaran berdasarkan hasil dari pelatihan data\n",
    "plt.scatter(x_train, y_train, color = 'orange')\n",
    "plt.plot(x_train, regressor.predict(x_train), color = 'green')\n",
    "plt.title('Perbandingan production dengan harvest area (pelatihan data)')\n",
    "plt.xlabel('production')\n",
    "plt.ylabel('harvest area')\n",
    "plt.show()"
   ]
  },
  {
   "cell_type": "markdown",
   "id": "07502d25",
   "metadata": {},
   "source": [
    "- plt.Scatter\n",
    "merupakan command untuk memanggil desain scatter pada library matplotlib.pyplot serta memasukan data latihan dari titik x & y dan pada saat grafiknya dimunculkan akan berwarna oranye\n",
    "- plt.plot\n",
    "berfungsi untuk mengambil data dari prediksi pada x_train, dan nantinya akan berwarna  hijau pada grafik yang kita tampilkan\n",
    "- plt.title\n",
    "memberikan judul pada grafik yang dibuat\n",
    "- plt.xlabel \n",
    "menentukan data x label pada grafik, yaitu \"Study Hours\"\n",
    "- plt.ylabel\n",
    "menentukan data y label pada grafik, yaitu \"Exam Scores\"\n",
    "- plt.show()\n",
    "berguna untuk menampilkan scatter yang sudah kita setting"
   ]
  },
  {
   "cell_type": "code",
   "execution_count": 26,
   "id": "9f62d382-1b90-43c3-bdba-f593046780a5",
   "metadata": {},
   "outputs": [
    {
     "data": {
      "text/plain": [
       "0.8690255474767583"
      ]
     },
     "execution_count": 26,
     "metadata": {},
     "output_type": "execute_result"
    }
   ],
   "source": [
    "##hasil akurasi regresi\n",
    "regressor.score(x_test,y_test)"
   ]
  },
  {
   "cell_type": "code",
   "execution_count": null,
   "id": "008ee261-3bf4-4c7b-a91c-df1441c7adda",
   "metadata": {},
   "outputs": [],
   "source": []
  }
 ],
 "metadata": {
  "kernelspec": {
   "display_name": "Python 3 (ipykernel)",
   "language": "python",
   "name": "python3"
  },
  "language_info": {
   "codemirror_mode": {
    "name": "ipython",
    "version": 3
   },
   "file_extension": ".py",
   "mimetype": "text/x-python",
   "name": "python",
   "nbconvert_exporter": "python",
   "pygments_lexer": "ipython3",
   "version": "3.12.0"
  }
 },
 "nbformat": 4,
 "nbformat_minor": 5
}
